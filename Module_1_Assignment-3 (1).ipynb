{
 "cells": [
  {
   "cell_type": "markdown",
   "metadata": {},
   "source": [
    "# Week 1 Assignment\n",
    "\n",
    "* Download the \"Week_1_Assignment.ipynb\" notebook \n",
    "* Fill in the code in the cells marked with `# YOUR ANSWER HERE:` by answering the question/task defined in the cell above it starting with `GRADED:`\n",
    "* `VERY IMPORTANT`: Code cells outside of `# YOUR ANSWER HERE:` will not be considered for grading. \n",
    "  * Feel free to write outside of it for debugging\n",
    "* `DO NOT` fill your asnwers with many `print` statements. Only use `print` if the assignment asked explcitly. For example, if you are asked to write a function to calculate the sum of two numbers--the function should return that value, `NOT` a `print` statement of the value.\n",
    "* Submit the updated notebook\n",
    "  * Make sure to save your changes before submitting it!"
   ]
  },
  {
   "cell_type": "code",
   "execution_count": 1,
   "metadata": {},
   "outputs": [],
   "source": [
    "#Import necessary libraries\n",
    "import pandas as pd\n",
    "import numpy as np"
   ]
  },
  {
   "cell_type": "markdown",
   "metadata": {},
   "source": [
    "`GRADED [1]`: Provided below are functions that are:\n",
    "- completely defined: `add_numbers`;\n",
    "- partially defined: `min_square`; _and_\n",
    "- not defined at all: `sum_squares`\n",
    "\n",
    " 1. Complete `min_square` so that it returns the minimum of (square root of `a` and square root of `b`)\n",
    " 2. Write a function called `sum_squares` that returns the sum of the square root of `a` and the square root of `b`."
   ]
  },
  {
   "cell_type": "code",
   "execution_count": 1,
   "metadata": {},
   "outputs": [],
   "source": [
    "# [1] YOUR ANSWER HERE:\n",
    "\n",
    "def add_numbers(x, y):\n",
    "    result = x + y\n",
    "    return result\n",
    "\n",
    "def min_square(a, b):\n",
    "    # Write code to return the lower of (minimum of) square root of a and square root of b\n",
    "    result =  None # Replace None with your code\n",
    "    return result\n",
    "\n"
   ]
  },
  {
   "cell_type": "markdown",
   "metadata": {},
   "source": [
    "`GRADED [2]`: Write a function called `personal_info` that takes a a last name, age, and a home town (a total of 3 arguments) and returns a full sentence string with the following content and format: `Your last name is [name], you are [age] years old, and you live in [city].`--where the values in square brackets are the actual values of the tree arguments provided by the function. Please make sure that you follow the format and grammar of the sentence exactly as defined and that you use `f-string` Python string formatting--any other type of formatting will receive reduced points.\n",
    "_Hint_: Your string shold follow the Python f-strings formatting functionality. https://realpython.com/python-f-strings/"
   ]
  },
  {
   "cell_type": "code",
   "execution_count": 3,
   "metadata": {},
   "outputs": [],
   "source": [
    "# [2] YOUR ANSER HERE"
   ]
  },
  {
   "cell_type": "code",
   "execution_count": null,
   "metadata": {},
   "outputs": [],
   "source": [
    "personal_info('Smith', 30, 'Boston')  # please do not modify this cell"
   ]
  },
  {
   "cell_type": "markdown",
   "metadata": {
    "collapsed": true
   },
   "source": [
    "`GRADED [3]`: Using a `while` loop: loop over every sequential _odd_ number between `2` and `19` (__`inclusive`__); in the same `while` loop print __`only`__ every 3rd sequential of those odd numnbers you have encountered in the loop."
   ]
  },
  {
   "cell_type": "code",
   "execution_count": 3,
   "metadata": {},
   "outputs": [],
   "source": [
    "# [3] YOUR ANSER HERE:"
   ]
  },
  {
   "cell_type": "markdown",
   "metadata": {},
   "source": [
    "`GRADED [4]`: Define a function called `length_converter` that takes as an argument a length in `meters` and __prints__ the equivalent distance in `miles` using the following sentence: `Original length was [..] meters, which equals [..] miles.`"
   ]
  },
  {
   "cell_type": "code",
   "execution_count": 2,
   "metadata": {},
   "outputs": [],
   "source": [
    "# [4] YOUR ANSWER HERE:"
   ]
  },
  {
   "cell_type": "code",
   "execution_count": null,
   "metadata": {},
   "outputs": [],
   "source": [
    "length_converter(5000)  # please do not modify this cell"
   ]
  }
 ],
 "metadata": {
  "kernelspec": {
   "display_name": "Python 3",
   "language": "python",
   "name": "python3"
  },
  "language_info": {
   "codemirror_mode": {
    "name": "ipython",
    "version": 3
   },
   "file_extension": ".py",
   "mimetype": "text/x-python",
   "name": "python",
   "nbconvert_exporter": "python",
   "pygments_lexer": "ipython3",
   "version": "3.9.5"
  }
 },
 "nbformat": 4,
 "nbformat_minor": 2
}
