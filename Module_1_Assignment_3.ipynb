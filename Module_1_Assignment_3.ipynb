{
  "cells": [
    {
      "cell_type": "markdown",
      "metadata": {
        "id": "UwnUjwRokCz5"
      },
      "source": [
        "# Week 1 Assignment\n",
        "\n",
        "* Download the \"Week_1_Assignment.ipynb\" notebook\n",
        "* Fill in the code in the cells marked with `# YOUR ANSWER HERE:` by answering the question/task defined in the cell above it starting with `GRADED:`\n",
        "* `VERY IMPORTANT`: Code cells outside of `# YOUR ANSWER HERE:` will not be considered for grading.\n",
        "  * Feel free to write outside of it for debugging\n",
        "* `DO NOT` fill your asnwers with many `print` statements. Only use `print` if the assignment asked explcitly. For example, if you are asked to write a function to calculate the sum of two numbers--the function should return that value, `NOT` a `print` statement of the value.\n",
        "* Submit the updated notebook\n",
        "  * Make sure to save your changes before submitting it!"
      ]
    },
    {
      "cell_type": "code",
      "execution_count": 18,
      "metadata": {
        "id": "yuhQX2JpkCz6"
      },
      "outputs": [],
      "source": [
        "#Import necessary libraries\n",
        "import pandas as pd\n",
        "import numpy as np"
      ]
    },
    {
      "cell_type": "markdown",
      "metadata": {
        "id": "1-0KX3M-kCz6"
      },
      "source": [
        "`GRADED [1]`: Provided below are functions that are:\n",
        "- completely defined: `add_numbers`;\n",
        "- partially defined: `min_square`; _and_\n",
        "- not defined at all: `sum_squares`\n",
        "\n",
        " 1. Complete `min_square` so that it returns the minimum of (square root of `a` and square root of `b`)\n",
        " 2. Write a function called `sum_squares` that returns the sum of the square root of `a` and the square root of `b`."
      ]
    },
    {
      "cell_type": "code",
      "execution_count": 19,
      "metadata": {
        "id": "ShQ0Ew_skCz7"
      },
      "outputs": [],
      "source": [
        "# [1] YOUR ANSWER HERE:\n",
        "\n",
        "def add_numbers(x, y):\n",
        "    result = x + y\n",
        "    return result\n",
        "\n",
        "def min_square(a, b):\n",
        "    # Write code to return the lower of (minimum of) square root of a and square root of b\n",
        "    result =  min(math.sqrt(a), math.sqrt(b)) # Replace None with your code\n",
        "    return result"
      ]
    },
    {
      "cell_type": "markdown",
      "metadata": {
        "id": "iXjmxZ4zkCz7"
      },
      "source": [
        "`GRADED [2]`: Write a function called `personal_info` that takes a a last name, age, and a home town (a total of 3 arguments) and returns a full sentence string with the following content and format: `Your last name is [name], you are [age] years old, and you live in [city].`--where the values in square brackets are the actual values of the tree arguments provided by the function. Please make sure that you follow the format and grammar of the sentence exactly as defined and that you use `f-string` Python string formatting--any other type of formatting will receive reduced points.\n",
        "_Hint_: Your string shold follow the Python f-strings formatting functionality. https://realpython.com/python-f-strings/"
      ]
    },
    {
      "cell_type": "code",
      "execution_count": 20,
      "metadata": {
        "id": "y_vROfcDkCz7"
      },
      "outputs": [],
      "source": [
        "# [2] YOUR ANSER HERE\n",
        "def personal_info(last_name, age, home_town):\n",
        "    return f\"Your last name is {last_name}, you are {age} years old, and you live in {home_town}.\""
      ]
    },
    {
      "cell_type": "code",
      "execution_count": 21,
      "metadata": {
        "colab": {
          "base_uri": "https://localhost:8080/",
          "height": 35
        },
        "id": "s7C0LqmFkCz7",
        "outputId": "a850fff6-3a8e-4739-be1f-17e590e70a52"
      },
      "outputs": [
        {
          "output_type": "execute_result",
          "data": {
            "text/plain": [
              "'Your last name is Smith, you are 30 years old, and you live in Boston.'"
            ],
            "application/vnd.google.colaboratory.intrinsic+json": {
              "type": "string"
            }
          },
          "metadata": {},
          "execution_count": 21
        }
      ],
      "source": [
        "personal_info('Smith', 30, 'Boston')  # please do not modify this cell"
      ]
    },
    {
      "cell_type": "markdown",
      "metadata": {
        "collapsed": true,
        "id": "L565wPDQkCz7"
      },
      "source": [
        "`GRADED [3]`: Using a `while` loop: loop over every sequential _odd_ number between `2` and `19` (__`inclusive`__); in the same `while` loop print __`only`__ every 3rd sequential of those odd numnbers you have encountered in the loop."
      ]
    },
    {
      "cell_type": "code",
      "execution_count": 22,
      "metadata": {
        "id": "YMMgXzNTkCz7"
      },
      "outputs": [],
      "source": [
        "# [3] YOUR ANSER HERE:\n",
        "def print_every_third_odd():\n",
        "    num = 3  # Start with the first odd number after 2\n",
        "    count = 0  # Track how many odd numbers we have encountered\n",
        "\n",
        "    while num <= 19:\n",
        "        count += 1\n",
        "        if count % 3 == 0:  # Print every 3rd odd number\n",
        "            print(num)\n",
        "        num += 2  # Next odd number"
      ]
    },
    {
      "cell_type": "markdown",
      "metadata": {
        "id": "1ef83ZdckCz7"
      },
      "source": [
        "`GRADED [4]`: Define a function called `length_converter` that takes as an argument a length in `meters` and __prints__ the equivalent distance in `miles` using the following sentence: `Original length was [..] meters, which equals [..] miles.`"
      ]
    },
    {
      "cell_type": "code",
      "execution_count": 23,
      "metadata": {
        "id": "umV2WfRZkCz7"
      },
      "outputs": [],
      "source": [
        "# [4] YOUR ANSWER HERE:\n",
        "def length_converter(length_in_meters):\n",
        "    # 1 meter = 0.000621371 miles\n",
        "    miles = length_in_meters * 0.000621371\n",
        "    print(f\"Original length was {length_in_meters} meters, which equals {miles} miles.\")"
      ]
    },
    {
      "cell_type": "code",
      "execution_count": 24,
      "metadata": {
        "colab": {
          "base_uri": "https://localhost:8080/"
        },
        "id": "m5UCgW3WkCz7",
        "outputId": "d3ae7898-f366-4a41-dd5c-6df66cccddde"
      },
      "outputs": [
        {
          "output_type": "stream",
          "name": "stdout",
          "text": [
            "Original length was 5000 meters, which equals 3.106855 miles.\n"
          ]
        }
      ],
      "source": [
        "length_converter(5000)  # please do not modify this cell"
      ]
    }
  ],
  "metadata": {
    "kernelspec": {
      "display_name": "Python 3",
      "language": "python",
      "name": "python3"
    },
    "language_info": {
      "codemirror_mode": {
        "name": "ipython",
        "version": 3
      },
      "file_extension": ".py",
      "mimetype": "text/x-python",
      "name": "python",
      "nbconvert_exporter": "python",
      "pygments_lexer": "ipython3",
      "version": "3.9.5"
    },
    "colab": {
      "provenance": []
    }
  },
  "nbformat": 4,
  "nbformat_minor": 0
}